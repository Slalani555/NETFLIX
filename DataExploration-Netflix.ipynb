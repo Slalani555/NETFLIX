{
 "cells": [
  {
   "cell_type": "markdown",
   "metadata": {},
   "source": [
    "### **Data Exploration**"
   ]
  },
  {
   "cell_type": "code",
   "execution_count": 1,
   "metadata": {},
   "outputs": [],
   "source": [
    "import pandas as pd\n",
    "import numpy as np\n",
    "import seaborn as sns\n",
    "import matplotlib.pylab as plt\n",
    "%matplotlib inline\n",
    "sns.set(color_codes=True)\n",
    "\n",
    "import datetime as dt\n",
    "from datetime import datetime\n",
    "from siuba import _\n",
    "from siuba.dply.verbs import group_by,mutate,select,summarize,ungroup"
   ]
  },
  {
   "cell_type": "code",
   "execution_count": 6,
   "metadata": {},
   "outputs": [
    {
     "data": {
      "text/plain": [
       "'C:\\\\Users\\\\User\\\\projects\\\\Netflix'"
      ]
     },
     "execution_count": 6,
     "metadata": {},
     "output_type": "execute_result"
    }
   ],
   "source": [
    "import os\n",
    "os.chdir('C:\\\\Users\\\\User\\\\projects\\\\Netflix')\n",
    "os.getcwd()"
   ]
  },
  {
   "cell_type": "code",
   "execution_count": 7,
   "metadata": {},
   "outputs": [
    {
     "name": "stdout",
     "output_type": "stream",
     "text": [
      "Data downloaded and read into a dataframe!\n"
     ]
    }
   ],
   "source": [
    "df= pd.read_csv('netflix_titles.csv')\n",
    "print('Data downloaded and read into a dataframe!')"
   ]
  },
  {
   "cell_type": "code",
   "execution_count": 8,
   "metadata": {},
   "outputs": [
    {
     "data": {
      "text/html": [
       "<div>\n",
       "<style scoped>\n",
       "    .dataframe tbody tr th:only-of-type {\n",
       "        vertical-align: middle;\n",
       "    }\n",
       "\n",
       "    .dataframe tbody tr th {\n",
       "        vertical-align: top;\n",
       "    }\n",
       "\n",
       "    .dataframe thead th {\n",
       "        text-align: right;\n",
       "    }\n",
       "</style>\n",
       "<table border=\"1\" class=\"dataframe\">\n",
       "  <thead>\n",
       "    <tr style=\"text-align: right;\">\n",
       "      <th></th>\n",
       "      <th>show_id</th>\n",
       "      <th>type</th>\n",
       "      <th>title</th>\n",
       "      <th>director</th>\n",
       "      <th>cast</th>\n",
       "      <th>country</th>\n",
       "      <th>date_added</th>\n",
       "      <th>release_year</th>\n",
       "      <th>rating</th>\n",
       "      <th>duration</th>\n",
       "      <th>listed_in</th>\n",
       "      <th>description</th>\n",
       "    </tr>\n",
       "  </thead>\n",
       "  <tbody>\n",
       "    <tr>\n",
       "      <th>0</th>\n",
       "      <td>81145628</td>\n",
       "      <td>Movie</td>\n",
       "      <td>Norm of the North: King Sized Adventure</td>\n",
       "      <td>Richard Finn, Tim Maltby</td>\n",
       "      <td>Alan Marriott, Andrew Toth, Brian Dobson, Cole...</td>\n",
       "      <td>United States, India, South Korea, China</td>\n",
       "      <td>September 9, 2019</td>\n",
       "      <td>2019</td>\n",
       "      <td>TV-PG</td>\n",
       "      <td>90 min</td>\n",
       "      <td>Children &amp; Family Movies, Comedies</td>\n",
       "      <td>Before planning an awesome wedding for his gra...</td>\n",
       "    </tr>\n",
       "    <tr>\n",
       "      <th>1</th>\n",
       "      <td>80117401</td>\n",
       "      <td>Movie</td>\n",
       "      <td>Jandino: Whatever it Takes</td>\n",
       "      <td>NaN</td>\n",
       "      <td>Jandino Asporaat</td>\n",
       "      <td>United Kingdom</td>\n",
       "      <td>September 9, 2016</td>\n",
       "      <td>2016</td>\n",
       "      <td>TV-MA</td>\n",
       "      <td>94 min</td>\n",
       "      <td>Stand-Up Comedy</td>\n",
       "      <td>Jandino Asporaat riffs on the challenges of ra...</td>\n",
       "    </tr>\n",
       "    <tr>\n",
       "      <th>2</th>\n",
       "      <td>70234439</td>\n",
       "      <td>TV Show</td>\n",
       "      <td>Transformers Prime</td>\n",
       "      <td>NaN</td>\n",
       "      <td>Peter Cullen, Sumalee Montano, Frank Welker, J...</td>\n",
       "      <td>United States</td>\n",
       "      <td>September 8, 2018</td>\n",
       "      <td>2013</td>\n",
       "      <td>TV-Y7-FV</td>\n",
       "      <td>1 Season</td>\n",
       "      <td>Kids' TV</td>\n",
       "      <td>With the help of three human allies, the Autob...</td>\n",
       "    </tr>\n",
       "    <tr>\n",
       "      <th>3</th>\n",
       "      <td>80058654</td>\n",
       "      <td>TV Show</td>\n",
       "      <td>Transformers: Robots in Disguise</td>\n",
       "      <td>NaN</td>\n",
       "      <td>Will Friedle, Darren Criss, Constance Zimmer, ...</td>\n",
       "      <td>United States</td>\n",
       "      <td>September 8, 2018</td>\n",
       "      <td>2016</td>\n",
       "      <td>TV-Y7</td>\n",
       "      <td>1 Season</td>\n",
       "      <td>Kids' TV</td>\n",
       "      <td>When a prison ship crash unleashes hundreds of...</td>\n",
       "    </tr>\n",
       "    <tr>\n",
       "      <th>4</th>\n",
       "      <td>80125979</td>\n",
       "      <td>Movie</td>\n",
       "      <td>#realityhigh</td>\n",
       "      <td>Fernando Lebrija</td>\n",
       "      <td>Nesta Cooper, Kate Walsh, John Michael Higgins...</td>\n",
       "      <td>United States</td>\n",
       "      <td>September 8, 2017</td>\n",
       "      <td>2017</td>\n",
       "      <td>TV-14</td>\n",
       "      <td>99 min</td>\n",
       "      <td>Comedies</td>\n",
       "      <td>When nerdy high schooler Dani finally attracts...</td>\n",
       "    </tr>\n",
       "  </tbody>\n",
       "</table>\n",
       "</div>"
      ],
      "text/plain": [
       "    show_id     type                                    title  \\\n",
       "0  81145628    Movie  Norm of the North: King Sized Adventure   \n",
       "1  80117401    Movie               Jandino: Whatever it Takes   \n",
       "2  70234439  TV Show                       Transformers Prime   \n",
       "3  80058654  TV Show         Transformers: Robots in Disguise   \n",
       "4  80125979    Movie                             #realityhigh   \n",
       "\n",
       "                   director  \\\n",
       "0  Richard Finn, Tim Maltby   \n",
       "1                       NaN   \n",
       "2                       NaN   \n",
       "3                       NaN   \n",
       "4          Fernando Lebrija   \n",
       "\n",
       "                                                cast  \\\n",
       "0  Alan Marriott, Andrew Toth, Brian Dobson, Cole...   \n",
       "1                                   Jandino Asporaat   \n",
       "2  Peter Cullen, Sumalee Montano, Frank Welker, J...   \n",
       "3  Will Friedle, Darren Criss, Constance Zimmer, ...   \n",
       "4  Nesta Cooper, Kate Walsh, John Michael Higgins...   \n",
       "\n",
       "                                    country         date_added  release_year  \\\n",
       "0  United States, India, South Korea, China  September 9, 2019          2019   \n",
       "1                            United Kingdom  September 9, 2016          2016   \n",
       "2                             United States  September 8, 2018          2013   \n",
       "3                             United States  September 8, 2018          2016   \n",
       "4                             United States  September 8, 2017          2017   \n",
       "\n",
       "     rating  duration                           listed_in  \\\n",
       "0     TV-PG    90 min  Children & Family Movies, Comedies   \n",
       "1     TV-MA    94 min                     Stand-Up Comedy   \n",
       "2  TV-Y7-FV  1 Season                            Kids' TV   \n",
       "3     TV-Y7  1 Season                            Kids' TV   \n",
       "4     TV-14    99 min                            Comedies   \n",
       "\n",
       "                                         description  \n",
       "0  Before planning an awesome wedding for his gra...  \n",
       "1  Jandino Asporaat riffs on the challenges of ra...  \n",
       "2  With the help of three human allies, the Autob...  \n",
       "3  When a prison ship crash unleashes hundreds of...  \n",
       "4  When nerdy high schooler Dani finally attracts...  "
      ]
     },
     "execution_count": 8,
     "metadata": {},
     "output_type": "execute_result"
    }
   ],
   "source": [
    "df.head()"
   ]
  },
  {
   "cell_type": "code",
   "execution_count": 9,
   "metadata": {},
   "outputs": [
    {
     "data": {
      "text/plain": [
       "(6234, 12)"
      ]
     },
     "execution_count": 9,
     "metadata": {},
     "output_type": "execute_result"
    }
   ],
   "source": [
    "#Returns no of rows & columns\n",
    "df.shape"
   ]
  },
  {
   "cell_type": "code",
   "execution_count": 10,
   "metadata": {},
   "outputs": [
    {
     "data": {
      "text/plain": [
       "(6234, 12)"
      ]
     },
     "execution_count": 10,
     "metadata": {},
     "output_type": "execute_result"
    }
   ],
   "source": [
    "df.drop_duplicates(inplace=True)\n",
    "df.shape"
   ]
  },
  {
   "cell_type": "code",
   "execution_count": 11,
   "metadata": {},
   "outputs": [
    {
     "data": {
      "text/html": [
       "<div>\n",
       "<style scoped>\n",
       "    .dataframe tbody tr th:only-of-type {\n",
       "        vertical-align: middle;\n",
       "    }\n",
       "\n",
       "    .dataframe tbody tr th {\n",
       "        vertical-align: top;\n",
       "    }\n",
       "\n",
       "    .dataframe thead th {\n",
       "        text-align: right;\n",
       "    }\n",
       "</style>\n",
       "<table border=\"1\" class=\"dataframe\">\n",
       "  <thead>\n",
       "    <tr style=\"text-align: right;\">\n",
       "      <th></th>\n",
       "      <th>show_id</th>\n",
       "      <th>type</th>\n",
       "      <th>country</th>\n",
       "      <th>date_added</th>\n",
       "      <th>release_year</th>\n",
       "      <th>rating</th>\n",
       "      <th>duration</th>\n",
       "      <th>listed_in</th>\n",
       "    </tr>\n",
       "  </thead>\n",
       "  <tbody>\n",
       "    <tr>\n",
       "      <th>0</th>\n",
       "      <td>81145628</td>\n",
       "      <td>Movie</td>\n",
       "      <td>United States, India, South Korea, China</td>\n",
       "      <td>September 9, 2019</td>\n",
       "      <td>2019</td>\n",
       "      <td>TV-PG</td>\n",
       "      <td>90 min</td>\n",
       "      <td>Children &amp; Family Movies, Comedies</td>\n",
       "    </tr>\n",
       "    <tr>\n",
       "      <th>1</th>\n",
       "      <td>80117401</td>\n",
       "      <td>Movie</td>\n",
       "      <td>United Kingdom</td>\n",
       "      <td>September 9, 2016</td>\n",
       "      <td>2016</td>\n",
       "      <td>TV-MA</td>\n",
       "      <td>94 min</td>\n",
       "      <td>Stand-Up Comedy</td>\n",
       "    </tr>\n",
       "    <tr>\n",
       "      <th>2</th>\n",
       "      <td>70234439</td>\n",
       "      <td>TV Show</td>\n",
       "      <td>United States</td>\n",
       "      <td>September 8, 2018</td>\n",
       "      <td>2013</td>\n",
       "      <td>TV-Y7-FV</td>\n",
       "      <td>1 Season</td>\n",
       "      <td>Kids' TV</td>\n",
       "    </tr>\n",
       "    <tr>\n",
       "      <th>3</th>\n",
       "      <td>80058654</td>\n",
       "      <td>TV Show</td>\n",
       "      <td>United States</td>\n",
       "      <td>September 8, 2018</td>\n",
       "      <td>2016</td>\n",
       "      <td>TV-Y7</td>\n",
       "      <td>1 Season</td>\n",
       "      <td>Kids' TV</td>\n",
       "    </tr>\n",
       "    <tr>\n",
       "      <th>4</th>\n",
       "      <td>80125979</td>\n",
       "      <td>Movie</td>\n",
       "      <td>United States</td>\n",
       "      <td>September 8, 2017</td>\n",
       "      <td>2017</td>\n",
       "      <td>TV-14</td>\n",
       "      <td>99 min</td>\n",
       "      <td>Comedies</td>\n",
       "    </tr>\n",
       "  </tbody>\n",
       "</table>\n",
       "</div>"
      ],
      "text/plain": [
       "    show_id     type                                   country  \\\n",
       "0  81145628    Movie  United States, India, South Korea, China   \n",
       "1  80117401    Movie                            United Kingdom   \n",
       "2  70234439  TV Show                             United States   \n",
       "3  80058654  TV Show                             United States   \n",
       "4  80125979    Movie                             United States   \n",
       "\n",
       "          date_added  release_year    rating  duration  \\\n",
       "0  September 9, 2019          2019     TV-PG    90 min   \n",
       "1  September 9, 2016          2016     TV-MA    94 min   \n",
       "2  September 8, 2018          2013  TV-Y7-FV  1 Season   \n",
       "3  September 8, 2018          2016     TV-Y7  1 Season   \n",
       "4  September 8, 2017          2017     TV-14    99 min   \n",
       "\n",
       "                            listed_in  \n",
       "0  Children & Family Movies, Comedies  \n",
       "1                     Stand-Up Comedy  \n",
       "2                            Kids' TV  \n",
       "3                            Kids' TV  \n",
       "4                            Comedies  "
      ]
     },
     "execution_count": 11,
     "metadata": {},
     "output_type": "execute_result"
    }
   ],
   "source": [
    "df.drop(['title','cast','director','description'],axis=1,inplace=True)\n",
    "df.head()"
   ]
  },
  {
   "cell_type": "code",
   "execution_count": 12,
   "metadata": {},
   "outputs": [
    {
     "name": "stdout",
     "output_type": "stream",
     "text": [
      "<class 'pandas.core.frame.DataFrame'>\n",
      "Int64Index: 6234 entries, 0 to 6233\n",
      "Data columns (total 8 columns):\n",
      " #   Column        Non-Null Count  Dtype \n",
      "---  ------        --------------  ----- \n",
      " 0   show_id       6234 non-null   int64 \n",
      " 1   type          6234 non-null   object\n",
      " 2   country       5758 non-null   object\n",
      " 3   date_added    6223 non-null   object\n",
      " 4   release_year  6234 non-null   int64 \n",
      " 5   rating        6224 non-null   object\n",
      " 6   duration      6234 non-null   object\n",
      " 7   listed_in     6234 non-null   object\n",
      "dtypes: int64(2), object(6)\n",
      "memory usage: 438.3+ KB\n"
     ]
    }
   ],
   "source": [
    "df.info()"
   ]
  },
  {
   "cell_type": "code",
   "execution_count": 13,
   "metadata": {},
   "outputs": [],
   "source": [
    "#Coverting show_id to string data type\n",
    "df['show_id']=df['show_id'].astype('object')"
   ]
  },
  {
   "cell_type": "code",
   "execution_count": 14,
   "metadata": {},
   "outputs": [
    {
     "name": "stdout",
     "output_type": "stream",
     "text": [
      "show_id         object\n",
      "type            object\n",
      "country         object\n",
      "date_added      object\n",
      "release_year     int64\n",
      "rating          object\n",
      "duration        object\n",
      "listed_in       object\n",
      "dtype: object\n"
     ]
    }
   ],
   "source": [
    "print (df.dtypes)"
   ]
  },
  {
   "cell_type": "code",
   "execution_count": 15,
   "metadata": {},
   "outputs": [
    {
     "data": {
      "text/plain": [
       "0   2019-09-09\n",
       "1   2016-09-09\n",
       "2   2018-09-08\n",
       "3   2018-09-08\n",
       "4   2017-09-08\n",
       "Name: date_added, dtype: datetime64[ns]"
      ]
     },
     "execution_count": 15,
     "metadata": {},
     "output_type": "execute_result"
    }
   ],
   "source": [
    "df[\"date_added\"]=pd.to_datetime(df[\"date_added\"])\n",
    "df[\"date_added\"].head()"
   ]
  },
  {
   "cell_type": "code",
   "execution_count": 16,
   "metadata": {},
   "outputs": [
    {
     "data": {
      "text/plain": [
       "0       2019.0\n",
       "1       2016.0\n",
       "2       2018.0\n",
       "3       2018.0\n",
       "4       2017.0\n",
       "         ...  \n",
       "6229       NaN\n",
       "6230       NaN\n",
       "6231       NaN\n",
       "6232       NaN\n",
       "6233       NaN\n",
       "Name: date_added, Length: 6234, dtype: float64"
      ]
     },
     "execution_count": 16,
     "metadata": {},
     "output_type": "execute_result"
    }
   ],
   "source": [
    "df[\"date_added\"].dt.year"
   ]
  },
  {
   "cell_type": "code",
   "execution_count": 17,
   "metadata": {},
   "outputs": [
    {
     "data": {
      "text/html": [
       "<div>\n",
       "<style scoped>\n",
       "    .dataframe tbody tr th:only-of-type {\n",
       "        vertical-align: middle;\n",
       "    }\n",
       "\n",
       "    .dataframe tbody tr th {\n",
       "        vertical-align: top;\n",
       "    }\n",
       "\n",
       "    .dataframe thead th {\n",
       "        text-align: right;\n",
       "    }\n",
       "</style>\n",
       "<table border=\"1\" class=\"dataframe\">\n",
       "  <thead>\n",
       "    <tr style=\"text-align: right;\">\n",
       "      <th></th>\n",
       "      <th>show_id</th>\n",
       "      <th>type</th>\n",
       "      <th>country</th>\n",
       "      <th>date_added</th>\n",
       "      <th>release_year</th>\n",
       "      <th>rating</th>\n",
       "      <th>duration</th>\n",
       "      <th>listed_in</th>\n",
       "      <th>Unit</th>\n",
       "    </tr>\n",
       "  </thead>\n",
       "  <tbody>\n",
       "    <tr>\n",
       "      <th>0</th>\n",
       "      <td>81145628</td>\n",
       "      <td>Movie</td>\n",
       "      <td>United States, India, South Korea, China</td>\n",
       "      <td>2019-09-09</td>\n",
       "      <td>2019</td>\n",
       "      <td>TV-PG</td>\n",
       "      <td>90</td>\n",
       "      <td>Children &amp; Family Movies, Comedies</td>\n",
       "      <td>min</td>\n",
       "    </tr>\n",
       "    <tr>\n",
       "      <th>1</th>\n",
       "      <td>80117401</td>\n",
       "      <td>Movie</td>\n",
       "      <td>United Kingdom</td>\n",
       "      <td>2016-09-09</td>\n",
       "      <td>2016</td>\n",
       "      <td>TV-MA</td>\n",
       "      <td>94</td>\n",
       "      <td>Stand-Up Comedy</td>\n",
       "      <td>min</td>\n",
       "    </tr>\n",
       "    <tr>\n",
       "      <th>2</th>\n",
       "      <td>70234439</td>\n",
       "      <td>TV Show</td>\n",
       "      <td>United States</td>\n",
       "      <td>2018-09-08</td>\n",
       "      <td>2013</td>\n",
       "      <td>TV-Y7-FV</td>\n",
       "      <td>1</td>\n",
       "      <td>Kids' TV</td>\n",
       "      <td>Season</td>\n",
       "    </tr>\n",
       "    <tr>\n",
       "      <th>3</th>\n",
       "      <td>80058654</td>\n",
       "      <td>TV Show</td>\n",
       "      <td>United States</td>\n",
       "      <td>2018-09-08</td>\n",
       "      <td>2016</td>\n",
       "      <td>TV-Y7</td>\n",
       "      <td>1</td>\n",
       "      <td>Kids' TV</td>\n",
       "      <td>Season</td>\n",
       "    </tr>\n",
       "    <tr>\n",
       "      <th>4</th>\n",
       "      <td>80125979</td>\n",
       "      <td>Movie</td>\n",
       "      <td>United States</td>\n",
       "      <td>2017-09-08</td>\n",
       "      <td>2017</td>\n",
       "      <td>TV-14</td>\n",
       "      <td>99</td>\n",
       "      <td>Comedies</td>\n",
       "      <td>min</td>\n",
       "    </tr>\n",
       "  </tbody>\n",
       "</table>\n",
       "</div>"
      ],
      "text/plain": [
       "    show_id     type                                   country date_added  \\\n",
       "0  81145628    Movie  United States, India, South Korea, China 2019-09-09   \n",
       "1  80117401    Movie                            United Kingdom 2016-09-09   \n",
       "2  70234439  TV Show                             United States 2018-09-08   \n",
       "3  80058654  TV Show                             United States 2018-09-08   \n",
       "4  80125979    Movie                             United States 2017-09-08   \n",
       "\n",
       "   release_year    rating duration                           listed_in    Unit  \n",
       "0          2019     TV-PG       90  Children & Family Movies, Comedies     min  \n",
       "1          2016     TV-MA       94                     Stand-Up Comedy     min  \n",
       "2          2013  TV-Y7-FV        1                            Kids' TV  Season  \n",
       "3          2016     TV-Y7        1                            Kids' TV  Season  \n",
       "4          2017     TV-14       99                            Comedies     min  "
      ]
     },
     "execution_count": 17,
     "metadata": {},
     "output_type": "execute_result"
    }
   ],
   "source": [
    "df[['duration','Unit']]=df['duration'].str.split(' ', expand=True)\n",
    "df.head()"
   ]
  },
  {
   "cell_type": "code",
   "execution_count": 62,
   "metadata": {},
   "outputs": [
    {
     "data": {
      "text/plain": [
       "14"
      ]
     },
     "execution_count": 62,
     "metadata": {},
     "output_type": "execute_result"
    }
   ],
   "source": [
    "df['rating'].nunique()"
   ]
  },
  {
   "cell_type": "markdown",
   "metadata": {},
   "source": [
    "**Maturity ratings for TV shows and movies on Netflix:**\n",
    "**Kids**\n",
    "TV-Y Designed to be appropriate for all children\n",
    "\n",
    "TV-Y7 Suitable for ages 7 and up\n",
    "\n",
    "G Suitable for General Audiences\n",
    "\n",
    "TV-G Suitable for General Audiences\n",
    "\n",
    "PG Parental Guidance suggested\n",
    "\n",
    "TV-PG Parental Guidance suggested\n",
    "\n",
    "**Teens**\n",
    "PG-13 Parents strongly cautioned. May be Inappropriate for ages 12 and under.\n",
    "\n",
    "TV-14 Parents strongly cautioned. May not be suitable for ages 14 and under.\n",
    "\n",
    "**Adults**\n",
    "R Restricted. May be inappropriate for ages 17 and under.\n",
    "\n",
    "TV-MA For Mature Audiences. May not be suitable for ages 17 and under.\n",
    "\n",
    "NC-17 Inappropriate for ages 17 and under"
   ]
  },
  {
   "cell_type": "code",
   "execution_count": 52,
   "metadata": {},
   "outputs": [
    {
     "data": {
      "text/plain": [
       "TV-MA       2027\n",
       "TV-14       1698\n",
       "TV-PG        701\n",
       "R            508\n",
       "PG-13        286\n",
       "NR           218\n",
       "PG           184\n",
       "TV-Y7        169\n",
       "TV-G         149\n",
       "TV-Y         143\n",
       "TV-Y7-FV      95\n",
       "G             37\n",
       "UR             7\n",
       "NC-17          2\n",
       "Name: rating, dtype: int64"
      ]
     },
     "execution_count": 52,
     "metadata": {},
     "output_type": "execute_result"
    }
   ],
   "source": [
    "rating_count=df['rating'].value_counts()\n",
    "rating_count"
   ]
  },
  {
   "cell_type": "code",
   "execution_count": 53,
   "metadata": {},
   "outputs": [],
   "source": [
    "rating_grp=df.groupby(['rating'])"
   ]
  },
  {
   "cell_type": "code",
   "execution_count": 54,
   "metadata": {},
   "outputs": [
    {
     "data": {
      "text/plain": [
       "rating\n",
       "G            32\n",
       "NC-17         1\n",
       "NR          102\n",
       "PG          150\n",
       "PG-13       249\n",
       "R           398\n",
       "TV-14       417\n",
       "TV-G         68\n",
       "TV-MA       737\n",
       "TV-PG       252\n",
       "TV-Y         60\n",
       "TV-Y7        73\n",
       "TV-Y7-FV     65\n",
       "UR            3\n",
       "Name: country, dtype: int64"
      ]
     },
     "execution_count": 54,
     "metadata": {},
     "output_type": "execute_result"
    }
   ],
   "source": [
    "US_rating=rating_grp['country'].apply(lambda x:x.str.contains('United States').sum())\n",
    "US_rating"
   ]
  },
  {
   "cell_type": "code",
   "execution_count": 55,
   "metadata": {},
   "outputs": [
    {
     "data": {
      "text/html": [
       "<div>\n",
       "<style scoped>\n",
       "    .dataframe tbody tr th:only-of-type {\n",
       "        vertical-align: middle;\n",
       "    }\n",
       "\n",
       "    .dataframe tbody tr th {\n",
       "        vertical-align: top;\n",
       "    }\n",
       "\n",
       "    .dataframe thead th {\n",
       "        text-align: right;\n",
       "    }\n",
       "</style>\n",
       "<table border=\"1\" class=\"dataframe\">\n",
       "  <thead>\n",
       "    <tr style=\"text-align: right;\">\n",
       "      <th></th>\n",
       "      <th>rating</th>\n",
       "      <th>country</th>\n",
       "    </tr>\n",
       "  </thead>\n",
       "  <tbody>\n",
       "    <tr>\n",
       "      <th>TV-MA</th>\n",
       "      <td>2027</td>\n",
       "      <td>737</td>\n",
       "    </tr>\n",
       "    <tr>\n",
       "      <th>TV-14</th>\n",
       "      <td>1698</td>\n",
       "      <td>417</td>\n",
       "    </tr>\n",
       "    <tr>\n",
       "      <th>TV-PG</th>\n",
       "      <td>701</td>\n",
       "      <td>252</td>\n",
       "    </tr>\n",
       "    <tr>\n",
       "      <th>R</th>\n",
       "      <td>508</td>\n",
       "      <td>398</td>\n",
       "    </tr>\n",
       "    <tr>\n",
       "      <th>PG-13</th>\n",
       "      <td>286</td>\n",
       "      <td>249</td>\n",
       "    </tr>\n",
       "    <tr>\n",
       "      <th>NR</th>\n",
       "      <td>218</td>\n",
       "      <td>102</td>\n",
       "    </tr>\n",
       "    <tr>\n",
       "      <th>PG</th>\n",
       "      <td>184</td>\n",
       "      <td>150</td>\n",
       "    </tr>\n",
       "    <tr>\n",
       "      <th>TV-Y7</th>\n",
       "      <td>169</td>\n",
       "      <td>73</td>\n",
       "    </tr>\n",
       "    <tr>\n",
       "      <th>TV-G</th>\n",
       "      <td>149</td>\n",
       "      <td>68</td>\n",
       "    </tr>\n",
       "    <tr>\n",
       "      <th>TV-Y</th>\n",
       "      <td>143</td>\n",
       "      <td>60</td>\n",
       "    </tr>\n",
       "    <tr>\n",
       "      <th>TV-Y7-FV</th>\n",
       "      <td>95</td>\n",
       "      <td>65</td>\n",
       "    </tr>\n",
       "    <tr>\n",
       "      <th>G</th>\n",
       "      <td>37</td>\n",
       "      <td>32</td>\n",
       "    </tr>\n",
       "    <tr>\n",
       "      <th>UR</th>\n",
       "      <td>7</td>\n",
       "      <td>3</td>\n",
       "    </tr>\n",
       "    <tr>\n",
       "      <th>NC-17</th>\n",
       "      <td>2</td>\n",
       "      <td>1</td>\n",
       "    </tr>\n",
       "  </tbody>\n",
       "</table>\n",
       "</div>"
      ],
      "text/plain": [
       "          rating  country\n",
       "TV-MA       2027      737\n",
       "TV-14       1698      417\n",
       "TV-PG        701      252\n",
       "R            508      398\n",
       "PG-13        286      249\n",
       "NR           218      102\n",
       "PG           184      150\n",
       "TV-Y7        169       73\n",
       "TV-G         149       68\n",
       "TV-Y         143       60\n",
       "TV-Y7-FV      95       65\n",
       "G             37       32\n",
       "UR             7        3\n",
       "NC-17          2        1"
      ]
     },
     "execution_count": 55,
     "metadata": {},
     "output_type": "execute_result"
    }
   ],
   "source": [
    "rating_df=pd.concat([rating_count,US_rating],axis='columns',sort=False)\n",
    "rating_df"
   ]
  },
  {
   "cell_type": "code",
   "execution_count": 56,
   "metadata": {},
   "outputs": [],
   "source": [
    "rating_df.rename(columns={'rating':'TotalRating','country':'USRating'},inplace=True)"
   ]
  },
  {
   "cell_type": "code",
   "execution_count": 78,
   "metadata": {},
   "outputs": [
    {
     "data": {
      "text/html": [
       "<div>\n",
       "<style scoped>\n",
       "    .dataframe tbody tr th:only-of-type {\n",
       "        vertical-align: middle;\n",
       "    }\n",
       "\n",
       "    .dataframe tbody tr th {\n",
       "        vertical-align: top;\n",
       "    }\n",
       "\n",
       "    .dataframe thead th {\n",
       "        text-align: right;\n",
       "    }\n",
       "</style>\n",
       "<table border=\"1\" class=\"dataframe\">\n",
       "  <thead>\n",
       "    <tr style=\"text-align: right;\">\n",
       "      <th></th>\n",
       "      <th>TotalRating</th>\n",
       "      <th>USRating</th>\n",
       "      <th>Pct_US_Rating</th>\n",
       "    </tr>\n",
       "  </thead>\n",
       "  <tbody>\n",
       "    <tr>\n",
       "      <th>PG-13</th>\n",
       "      <td>286</td>\n",
       "      <td>249</td>\n",
       "      <td>87.062937</td>\n",
       "    </tr>\n",
       "    <tr>\n",
       "      <th>G</th>\n",
       "      <td>37</td>\n",
       "      <td>32</td>\n",
       "      <td>86.486486</td>\n",
       "    </tr>\n",
       "    <tr>\n",
       "      <th>PG</th>\n",
       "      <td>184</td>\n",
       "      <td>150</td>\n",
       "      <td>81.521739</td>\n",
       "    </tr>\n",
       "    <tr>\n",
       "      <th>R</th>\n",
       "      <td>508</td>\n",
       "      <td>398</td>\n",
       "      <td>78.346457</td>\n",
       "    </tr>\n",
       "    <tr>\n",
       "      <th>TV-Y7-FV</th>\n",
       "      <td>95</td>\n",
       "      <td>65</td>\n",
       "      <td>68.421053</td>\n",
       "    </tr>\n",
       "    <tr>\n",
       "      <th>NC-17</th>\n",
       "      <td>2</td>\n",
       "      <td>1</td>\n",
       "      <td>50.000000</td>\n",
       "    </tr>\n",
       "    <tr>\n",
       "      <th>NR</th>\n",
       "      <td>218</td>\n",
       "      <td>102</td>\n",
       "      <td>46.788991</td>\n",
       "    </tr>\n",
       "    <tr>\n",
       "      <th>TV-G</th>\n",
       "      <td>149</td>\n",
       "      <td>68</td>\n",
       "      <td>45.637584</td>\n",
       "    </tr>\n",
       "    <tr>\n",
       "      <th>TV-Y7</th>\n",
       "      <td>169</td>\n",
       "      <td>73</td>\n",
       "      <td>43.195266</td>\n",
       "    </tr>\n",
       "    <tr>\n",
       "      <th>UR</th>\n",
       "      <td>7</td>\n",
       "      <td>3</td>\n",
       "      <td>42.857143</td>\n",
       "    </tr>\n",
       "    <tr>\n",
       "      <th>TV-Y</th>\n",
       "      <td>143</td>\n",
       "      <td>60</td>\n",
       "      <td>41.958042</td>\n",
       "    </tr>\n",
       "    <tr>\n",
       "      <th>TV-MA</th>\n",
       "      <td>2027</td>\n",
       "      <td>737</td>\n",
       "      <td>36.359151</td>\n",
       "    </tr>\n",
       "    <tr>\n",
       "      <th>TV-PG</th>\n",
       "      <td>701</td>\n",
       "      <td>252</td>\n",
       "      <td>35.948645</td>\n",
       "    </tr>\n",
       "    <tr>\n",
       "      <th>TV-14</th>\n",
       "      <td>1698</td>\n",
       "      <td>417</td>\n",
       "      <td>24.558304</td>\n",
       "    </tr>\n",
       "  </tbody>\n",
       "</table>\n",
       "</div>"
      ],
      "text/plain": [
       "          TotalRating  USRating  Pct_US_Rating\n",
       "PG-13             286       249      87.062937\n",
       "G                  37        32      86.486486\n",
       "PG                184       150      81.521739\n",
       "R                 508       398      78.346457\n",
       "TV-Y7-FV           95        65      68.421053\n",
       "NC-17               2         1      50.000000\n",
       "NR                218       102      46.788991\n",
       "TV-G              149        68      45.637584\n",
       "TV-Y7             169        73      43.195266\n",
       "UR                  7         3      42.857143\n",
       "TV-Y              143        60      41.958042\n",
       "TV-MA            2027       737      36.359151\n",
       "TV-PG             701       252      35.948645\n",
       "TV-14            1698       417      24.558304"
      ]
     },
     "execution_count": 78,
     "metadata": {},
     "output_type": "execute_result"
    }
   ],
   "source": [
    "rating_df['Pct_US_Rating']=(rating_df['USRating']/rating_df['TotalRating']) *100\n",
    "rating_df"
   ]
  },
  {
   "cell_type": "code",
   "execution_count": 81,
   "metadata": {},
   "outputs": [
    {
     "data": {
      "text/html": [
       "<div>\n",
       "<style scoped>\n",
       "    .dataframe tbody tr th:only-of-type {\n",
       "        vertical-align: middle;\n",
       "    }\n",
       "\n",
       "    .dataframe tbody tr th {\n",
       "        vertical-align: top;\n",
       "    }\n",
       "\n",
       "    .dataframe thead th {\n",
       "        text-align: right;\n",
       "    }\n",
       "</style>\n",
       "<table border=\"1\" class=\"dataframe\">\n",
       "  <thead>\n",
       "    <tr style=\"text-align: right;\">\n",
       "      <th></th>\n",
       "      <th>TotalRating</th>\n",
       "      <th>USRating</th>\n",
       "      <th>Pct_US_Rating</th>\n",
       "    </tr>\n",
       "  </thead>\n",
       "  <tbody>\n",
       "    <tr>\n",
       "      <th>PG-13</th>\n",
       "      <td>286</td>\n",
       "      <td>249</td>\n",
       "      <td>87.062937</td>\n",
       "    </tr>\n",
       "    <tr>\n",
       "      <th>G</th>\n",
       "      <td>37</td>\n",
       "      <td>32</td>\n",
       "      <td>86.486486</td>\n",
       "    </tr>\n",
       "    <tr>\n",
       "      <th>PG</th>\n",
       "      <td>184</td>\n",
       "      <td>150</td>\n",
       "      <td>81.521739</td>\n",
       "    </tr>\n",
       "    <tr>\n",
       "      <th>R</th>\n",
       "      <td>508</td>\n",
       "      <td>398</td>\n",
       "      <td>78.346457</td>\n",
       "    </tr>\n",
       "    <tr>\n",
       "      <th>TV-Y7-FV</th>\n",
       "      <td>95</td>\n",
       "      <td>65</td>\n",
       "      <td>68.421053</td>\n",
       "    </tr>\n",
       "    <tr>\n",
       "      <th>NC-17</th>\n",
       "      <td>2</td>\n",
       "      <td>1</td>\n",
       "      <td>50.000000</td>\n",
       "    </tr>\n",
       "    <tr>\n",
       "      <th>NR</th>\n",
       "      <td>218</td>\n",
       "      <td>102</td>\n",
       "      <td>46.788991</td>\n",
       "    </tr>\n",
       "    <tr>\n",
       "      <th>TV-G</th>\n",
       "      <td>149</td>\n",
       "      <td>68</td>\n",
       "      <td>45.637584</td>\n",
       "    </tr>\n",
       "    <tr>\n",
       "      <th>TV-Y7</th>\n",
       "      <td>169</td>\n",
       "      <td>73</td>\n",
       "      <td>43.195266</td>\n",
       "    </tr>\n",
       "    <tr>\n",
       "      <th>UR</th>\n",
       "      <td>7</td>\n",
       "      <td>3</td>\n",
       "      <td>42.857143</td>\n",
       "    </tr>\n",
       "    <tr>\n",
       "      <th>TV-Y</th>\n",
       "      <td>143</td>\n",
       "      <td>60</td>\n",
       "      <td>41.958042</td>\n",
       "    </tr>\n",
       "    <tr>\n",
       "      <th>TV-MA</th>\n",
       "      <td>2027</td>\n",
       "      <td>737</td>\n",
       "      <td>36.359151</td>\n",
       "    </tr>\n",
       "    <tr>\n",
       "      <th>TV-PG</th>\n",
       "      <td>701</td>\n",
       "      <td>252</td>\n",
       "      <td>35.948645</td>\n",
       "    </tr>\n",
       "    <tr>\n",
       "      <th>TV-14</th>\n",
       "      <td>1698</td>\n",
       "      <td>417</td>\n",
       "      <td>24.558304</td>\n",
       "    </tr>\n",
       "  </tbody>\n",
       "</table>\n",
       "</div>"
      ],
      "text/plain": [
       "          TotalRating  USRating  Pct_US_Rating\n",
       "PG-13             286       249      87.062937\n",
       "G                  37        32      86.486486\n",
       "PG                184       150      81.521739\n",
       "R                 508       398      78.346457\n",
       "TV-Y7-FV           95        65      68.421053\n",
       "NC-17               2         1      50.000000\n",
       "NR                218       102      46.788991\n",
       "TV-G              149        68      45.637584\n",
       "TV-Y7             169        73      43.195266\n",
       "UR                  7         3      42.857143\n",
       "TV-Y              143        60      41.958042\n",
       "TV-MA            2027       737      36.359151\n",
       "TV-PG             701       252      35.948645\n",
       "TV-14            1698       417      24.558304"
      ]
     },
     "execution_count": 81,
     "metadata": {},
     "output_type": "execute_result"
    }
   ],
   "source": [
    "rating_df.sort_values(by='Pct_US_Rating',ascending=False,inplace=True)\n",
    "rating_df"
   ]
  },
  {
   "cell_type": "code",
   "execution_count": 80,
   "metadata": {},
   "outputs": [
    {
     "data": {
      "text/plain": [
       "1924"
      ]
     },
     "execution_count": 80,
     "metadata": {},
     "output_type": "execute_result"
    }
   ],
   "source": [
    "filter=df['type']=='Movie'\n",
    "df.loc[filter]['country'].str.contains('United States').sum()"
   ]
  },
  {
   "cell_type": "code",
   "execution_count": 72,
   "metadata": {},
   "outputs": [
    {
     "data": {
      "text/plain": [
       "Movie      4265\n",
       "TV Show    1969\n",
       "Name: type, dtype: int64"
      ]
     },
     "execution_count": 72,
     "metadata": {},
     "output_type": "execute_result"
    }
   ],
   "source": [
    "type_count=df['type'].value_counts()\n",
    "type_count"
   ]
  },
  {
   "cell_type": "code",
   "execution_count": 73,
   "metadata": {},
   "outputs": [],
   "source": [
    "type_grp=df.groupby(['type'])"
   ]
  },
  {
   "cell_type": "code",
   "execution_count": 74,
   "metadata": {},
   "outputs": [
    {
     "data": {
      "text/plain": [
       "type\n",
       "Movie      1924\n",
       "TV Show     686\n",
       "Name: country, dtype: int64"
      ]
     },
     "execution_count": 74,
     "metadata": {},
     "output_type": "execute_result"
    }
   ],
   "source": [
    "US_group=type_grp['country'].apply(lambda x:x.str.contains('United States').sum())\n",
    "US_group"
   ]
  },
  {
   "cell_type": "code",
   "execution_count": 75,
   "metadata": {},
   "outputs": [
    {
     "data": {
      "text/html": [
       "<div>\n",
       "<style scoped>\n",
       "    .dataframe tbody tr th:only-of-type {\n",
       "        vertical-align: middle;\n",
       "    }\n",
       "\n",
       "    .dataframe tbody tr th {\n",
       "        vertical-align: top;\n",
       "    }\n",
       "\n",
       "    .dataframe thead th {\n",
       "        text-align: right;\n",
       "    }\n",
       "</style>\n",
       "<table border=\"1\" class=\"dataframe\">\n",
       "  <thead>\n",
       "    <tr style=\"text-align: right;\">\n",
       "      <th></th>\n",
       "      <th>type</th>\n",
       "      <th>country</th>\n",
       "    </tr>\n",
       "    <tr>\n",
       "      <th>type</th>\n",
       "      <th></th>\n",
       "      <th></th>\n",
       "    </tr>\n",
       "  </thead>\n",
       "  <tbody>\n",
       "    <tr>\n",
       "      <th>Movie</th>\n",
       "      <td>4265</td>\n",
       "      <td>1924</td>\n",
       "    </tr>\n",
       "    <tr>\n",
       "      <th>TV Show</th>\n",
       "      <td>1969</td>\n",
       "      <td>686</td>\n",
       "    </tr>\n",
       "  </tbody>\n",
       "</table>\n",
       "</div>"
      ],
      "text/plain": [
       "         type  country\n",
       "type                  \n",
       "Movie    4265     1924\n",
       "TV Show  1969      686"
      ]
     },
     "execution_count": 75,
     "metadata": {},
     "output_type": "execute_result"
    }
   ],
   "source": [
    "type_df=pd.concat([type_count,US_group],axis='columns',sort=False)\n",
    "type_df"
   ]
  },
  {
   "cell_type": "code",
   "execution_count": 76,
   "metadata": {},
   "outputs": [
    {
     "data": {
      "text/html": [
       "<div>\n",
       "<style scoped>\n",
       "    .dataframe tbody tr th:only-of-type {\n",
       "        vertical-align: middle;\n",
       "    }\n",
       "\n",
       "    .dataframe tbody tr th {\n",
       "        vertical-align: top;\n",
       "    }\n",
       "\n",
       "    .dataframe thead th {\n",
       "        text-align: right;\n",
       "    }\n",
       "</style>\n",
       "<table border=\"1\" class=\"dataframe\">\n",
       "  <thead>\n",
       "    <tr style=\"text-align: right;\">\n",
       "      <th></th>\n",
       "      <th>Total</th>\n",
       "      <th>US</th>\n",
       "    </tr>\n",
       "    <tr>\n",
       "      <th>type</th>\n",
       "      <th></th>\n",
       "      <th></th>\n",
       "    </tr>\n",
       "  </thead>\n",
       "  <tbody>\n",
       "    <tr>\n",
       "      <th>Movie</th>\n",
       "      <td>4265</td>\n",
       "      <td>1924</td>\n",
       "    </tr>\n",
       "    <tr>\n",
       "      <th>TV Show</th>\n",
       "      <td>1969</td>\n",
       "      <td>686</td>\n",
       "    </tr>\n",
       "  </tbody>\n",
       "</table>\n",
       "</div>"
      ],
      "text/plain": [
       "         Total    US\n",
       "type                \n",
       "Movie     4265  1924\n",
       "TV Show   1969   686"
      ]
     },
     "execution_count": 76,
     "metadata": {},
     "output_type": "execute_result"
    }
   ],
   "source": [
    "type_df.rename(columns={'type':'Total','country':'US'},inplace=True)\n",
    "type_df"
   ]
  },
  {
   "cell_type": "code",
   "execution_count": 77,
   "metadata": {},
   "outputs": [
    {
     "data": {
      "text/html": [
       "<div>\n",
       "<style scoped>\n",
       "    .dataframe tbody tr th:only-of-type {\n",
       "        vertical-align: middle;\n",
       "    }\n",
       "\n",
       "    .dataframe tbody tr th {\n",
       "        vertical-align: top;\n",
       "    }\n",
       "\n",
       "    .dataframe thead th {\n",
       "        text-align: right;\n",
       "    }\n",
       "</style>\n",
       "<table border=\"1\" class=\"dataframe\">\n",
       "  <thead>\n",
       "    <tr style=\"text-align: right;\">\n",
       "      <th></th>\n",
       "      <th>Total</th>\n",
       "      <th>US</th>\n",
       "      <th>Pct_US_type</th>\n",
       "    </tr>\n",
       "    <tr>\n",
       "      <th>type</th>\n",
       "      <th></th>\n",
       "      <th></th>\n",
       "      <th></th>\n",
       "    </tr>\n",
       "  </thead>\n",
       "  <tbody>\n",
       "    <tr>\n",
       "      <th>Movie</th>\n",
       "      <td>4265</td>\n",
       "      <td>1924</td>\n",
       "      <td>45.111372</td>\n",
       "    </tr>\n",
       "    <tr>\n",
       "      <th>TV Show</th>\n",
       "      <td>1969</td>\n",
       "      <td>686</td>\n",
       "      <td>34.840020</td>\n",
       "    </tr>\n",
       "  </tbody>\n",
       "</table>\n",
       "</div>"
      ],
      "text/plain": [
       "         Total    US  Pct_US_type\n",
       "type                             \n",
       "Movie     4265  1924    45.111372\n",
       "TV Show   1969   686    34.840020"
      ]
     },
     "execution_count": 77,
     "metadata": {},
     "output_type": "execute_result"
    }
   ],
   "source": [
    "type_df['Pct_US_type']=(type_df['US']/type_df['Total'])*100\n",
    "type_df"
   ]
  },
  {
   "cell_type": "code",
   "execution_count": 82,
   "metadata": {},
   "outputs": [
    {
     "data": {
      "text/plain": [
       "TotalRating      286.000000\n",
       "USRating         249.000000\n",
       "Pct_US_Rating     87.062937\n",
       "Name: PG-13, dtype: float64"
      ]
     },
     "execution_count": 82,
     "metadata": {},
     "output_type": "execute_result"
    }
   ],
   "source": [
    "rating_df.loc['PG-13']"
   ]
  },
  {
   "cell_type": "code",
   "execution_count": 83,
   "metadata": {},
   "outputs": [
    {
     "data": {
      "text/plain": [
       "Total          4265.000000\n",
       "US             1924.000000\n",
       "Pct_US_type      45.111372\n",
       "Name: Movie, dtype: float64"
      ]
     },
     "execution_count": 83,
     "metadata": {},
     "output_type": "execute_result"
    }
   ],
   "source": [
    "type_df.loc['Movie']"
   ]
  }
 ],
 "metadata": {
  "kernelspec": {
   "display_name": "Python 3",
   "language": "python",
   "name": "python3"
  },
  "language_info": {
   "codemirror_mode": {
    "name": "ipython",
    "version": 3
   },
   "file_extension": ".py",
   "mimetype": "text/x-python",
   "name": "python",
   "nbconvert_exporter": "python",
   "pygments_lexer": "ipython3",
   "version": "3.8.3"
  }
 },
 "nbformat": 4,
 "nbformat_minor": 4
}
